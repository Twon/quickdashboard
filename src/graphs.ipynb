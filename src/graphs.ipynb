{
 "cells": [
  {
   "cell_type": "code",
   "execution_count": 26,
   "metadata": {},
   "outputs": [],
   "source": [
    "from bokeh.plotting import output_file, figure, show, output_notebook\n",
    "from bokeh.io import curdoc\n",
    "from bokeh.models import ColumnDataSource\n",
    "from bokeh.sampledata.stocks import AAPL, GOOG, FB, MSFT, IBM\n",
    "import pandas as pd\n",
    "\n",
    "output_file(\"test.html\")\n",
    "\n",
    "curdoc().theme = \"dark_minimal\"\n",
    "p = figure(height = 400, width = 400)\n",
    "x=[1, 2, 3] \n",
    "y=[5, 3, 2]"
   ]
  },
  {
   "cell_type": "code",
   "execution_count": null,
   "metadata": {},
   "outputs": [],
   "source": [
    "\n",
    "import bokeh.sampledata as sampledata\n",
    "sampledata.download()"
   ]
  },
  {
   "cell_type": "code",
   "execution_count": 28,
   "metadata": {},
   "outputs": [],
   "source": [
    "df = pd.DataFrame(AAPL)\n",
    "df['date'] = pd.to_datetime(df['date'])\n",
    "\n",
    "# reate a new plot with a datetime axis type\n",
    "p = figure(width=800, height=250, x_axis_type=\"datetime\")\n",
    "\n",
    "p.line(df['date'], df['close'], color='red', alpha=0.5)\n",
    "\n",
    "show(p)"
   ]
  },
  {
   "cell_type": "code",
   "execution_count": 4,
   "metadata": {},
   "outputs": [],
   "source": [
    "p.line(x=[1, 2, 3], y=[5, 3, 2])\n",
    "\n",
    "show(p)"
   ]
  },
  {
   "cell_type": "code",
   "execution_count": 22,
   "metadata": {},
   "outputs": [],
   "source": [
    "source = ColumnDataSource(data=dict(\n",
    "    x=[1, 2, 3, 4, 5],\n",
    "    y1=[1, 2, 4, 3, 4],\n",
    "    y2=[1, 4, 2, 2, 3],\n",
    "))\n",
    "\n",
    "q = figure(height = 400, width = 400)\n",
    "\n",
    "q.vline_stack([\"y1\", \"y2\"], x=\"x\", source=source)\n",
    "\n",
    "show(q)"
   ]
  },
  {
   "cell_type": "code",
   "execution_count": null,
   "metadata": {},
   "outputs": [],
   "source": [
    "p = figure(width=400, height=400)\n",
    "p.vbar(x=[1, 2, 3], width=0.5, bottom=0,\n",
    "       top=[1.2, 2.5, 3.7], color=\"firebrick\")\n",
    "\n",
    "show(p)"
   ]
  },
  {
   "cell_type": "code",
   "execution_count": 13,
   "metadata": {},
   "outputs": [],
   "source": [
    "source = ColumnDataSource(data=dict(\n",
    "    y=[1, 2, 3, 4, 5],\n",
    "    x1=[2, 2, 4, 3, 4],\n",
    "    x2=[1, 4, 2, 2, 3],\n",
    "))\n",
    "p = figure(width=400, height=400)\n",
    "\n",
    "p.hbar_stack(['x1', 'x2'], y='y', height=0.8, color=(\"grey\", \"lightgrey\"), source=source)\n",
    "\n",
    "show(p)"
   ]
  },
  {
   "cell_type": "code",
   "execution_count": 15,
   "metadata": {},
   "outputs": [],
   "source": [
    "output_file(\"varea.html\")\n",
    "\n",
    "p = figure(width=400, height=400)\n",
    "\n",
    "p.varea(x=[1, 2, 3, 4, 5],\n",
    "        y1=[5, 6, 4, 3, 5],\n",
    "        y2=[1, 4, 2, 2, 3])\n",
    "\n",
    "show(p)"
   ]
  },
  {
   "cell_type": "code",
   "execution_count": null,
   "metadata": {},
   "outputs": [],
   "source": [
    "source = ColumnDataSource(data=dict(\n",
    "    x=[1, 2, 3, 4, 5],\n",
    "    y1=[1, 2, 4, 3, 4],\n",
    "    y2=[1, 4, 2, 2, 3],\n",
    "))\n",
    "p = figure(width=400, height=400)\n",
    "\n",
    "p.varea_stack(['y1', 'y2'], x='x', color=(\"grey\", \"lightgrey\"), source=source)\n",
    "\n",
    "show(p)"
   ]
  },
  {
   "cell_type": "code",
   "execution_count": null,
   "metadata": {},
   "outputs": [],
   "source": [
    "x = [1, 2, 3, 4, 5]\n",
    "y = [6, 7, 8, 7, 3]\n",
    "\n",
    "p = figure(width=400, height=400)\n",
    "\n",
    "# add both a line and circles on the same plot\n",
    "p.line(x, y, line_width=2)\n",
    "p.circle(x, y, fill_color=\"white\", size=8)\n",
    "\n",
    "show(p)"
   ]
  },
  {
   "cell_type": "code",
   "execution_count": 33,
   "metadata": {},
   "outputs": [],
   "source": [
    "dfAAPL = pd.DataFrame(AAPL)\n",
    "dfGOOG = pd.DataFrame(GOOG)\n",
    "dfFB = pd.DataFrame(FB)\n",
    "dfMSFT = pd.DataFrame(MSFT)\n",
    "dfIBM = pd.DataFrame(IBM)\n",
    "output_file(\"stocks.html\")\n",
    "stockGraph = figure(width=800, height=250, x_axis_type=\"datetime\")\n",
    "\n",
    "dfAAPL['date'] = pd.to_datetime(dfAAPL['date'])\n",
    "dfGOOG['date'] = pd.to_datetime(dfGOOG['date'])\n",
    "dfMSFT['date'] = pd.to_datetime(dfMSFT['date'])\n",
    "dfIBM['date'] = pd.to_datetime(dfIBM['date'])\n",
    "dfFB['date'] = pd.to_datetime(dfFB['date'])\n",
    "\n",
    "stockGraph.line(dfAAPL[\"date\"], dfAAPL[\"close\"], color=\"red\", alpha=0.75)\n",
    "stockGraph.line(dfGOOG[\"date\"], dfGOOG[\"close\"], color=\"blue\", alpha=0.75)\n",
    "stockGraph.line(dfFB[\"date\"], dfFB[\"close\"], color=\"green\", alpha=0.75)\n",
    "stockGraph.line(dfMSFT[\"date\"], dfMSFT[\"close\"], color=\"yellow\", alpha=0.75)\n",
    "stockGraph.line(dfIBM[\"date\"], dfIBM[\"close\"], color=\"purple\", alpha=0.75)\n",
    "\n",
    "show(stockGraph)"
   ]
  }
 ],
 "metadata": {
  "kernelspec": {
   "display_name": "Python 3.10.5 64-bit",
   "language": "python",
   "name": "python3"
  },
  "language_info": {
   "codemirror_mode": {
    "name": "ipython",
    "version": 3
   },
   "file_extension": ".py",
   "mimetype": "text/x-python",
   "name": "python",
   "nbconvert_exporter": "python",
   "pygments_lexer": "ipython3",
   "version": "3.10.6"
  },
  "orig_nbformat": 4,
  "vscode": {
   "interpreter": {
    "hash": "e7370f93d1d0cde622a1f8e1c04877d8463912d04d973331ad4851f04de6915a"
   }
  }
 },
 "nbformat": 4,
 "nbformat_minor": 2
}
